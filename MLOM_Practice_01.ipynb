{
  "nbformat": 4,
  "nbformat_minor": 0,
  "metadata": {
    "colab": {
      "provenance": [],
      "authorship_tag": "ABX9TyOO5umZtmjdHmolGyUm892S",
      "include_colab_link": true
    },
    "kernelspec": {
      "name": "python3",
      "display_name": "Python 3"
    },
    "language_info": {
      "name": "python"
    }
  },
  "cells": [
    {
      "cell_type": "markdown",
      "metadata": {
        "id": "view-in-github",
        "colab_type": "text"
      },
      "source": [
        "<a href=\"https://colab.research.google.com/github/Wishmi-Sasika/MLOM-Labs/blob/main/MLOM_Practice_01.ipynb\" target=\"_parent\"><img src=\"https://colab.research.google.com/assets/colab-badge.svg\" alt=\"Open In Colab\"/></a>"
      ]
    },
    {
      "cell_type": "code",
      "execution_count": null,
      "metadata": {
        "colab": {
          "base_uri": "https://localhost:8080/"
        },
        "id": "0VyXqosEfUrB",
        "outputId": "1a252c36-de54-40d2-df28-1f5cc2775c4f"
      },
      "outputs": [
        {
          "output_type": "stream",
          "name": "stdout",
          "text": [
            "Mounted at /content/drive\n"
          ]
        }
      ],
      "source": [
        "from google.colab import drive\n",
        "drive.mount ('/content/drive')"
      ]
    },
    {
      "cell_type": "code",
      "source": [
        "import tensorflow as tf\n",
        "from tensorflow import keras\n",
        "import numpy as np\n",
        "import matplotlib.pyplot as plt\n",
        "from tensorflow.keras.preprocessing.image import ImageDataGenerator\n",
        "from tensorflow.keras import layers"
      ],
      "metadata": {
        "id": "cyBt75U8gF-k"
      },
      "execution_count": null,
      "outputs": []
    },
    {
      "cell_type": "code",
      "source": [
        "import os\n",
        "os.getcwd()"
      ],
      "metadata": {
        "colab": {
          "base_uri": "https://localhost:8080/",
          "height": 35
        },
        "id": "MUwE5tSlgdcV",
        "outputId": "0c84130f-88d8-4b64-8e76-7cbe7e7c4802"
      },
      "execution_count": null,
      "outputs": [
        {
          "output_type": "execute_result",
          "data": {
            "text/plain": [
              "'/content'"
            ],
            "application/vnd.google.colaboratory.intrinsic+json": {
              "type": "string"
            }
          },
          "metadata": {},
          "execution_count": 3
        }
      ]
    },
    {
      "cell_type": "code",
      "source": [
        "%cd /content/drive/MyDrive"
      ],
      "metadata": {
        "colab": {
          "base_uri": "https://localhost:8080/"
        },
        "id": "h8B55Q_igjks",
        "outputId": "98d77762-3fab-4171-dc72-adb6fb81ce0f"
      },
      "execution_count": null,
      "outputs": [
        {
          "output_type": "stream",
          "name": "stdout",
          "text": [
            "/content/drive/MyDrive\n"
          ]
        }
      ]
    },
    {
      "cell_type": "code",
      "source": [
        "os.getcwd()"
      ],
      "metadata": {
        "colab": {
          "base_uri": "https://localhost:8080/",
          "height": 35
        },
        "id": "6LieLtdghPl1",
        "outputId": "11f52f47-4c46-4446-cd71-0651b88a9877"
      },
      "execution_count": null,
      "outputs": [
        {
          "output_type": "execute_result",
          "data": {
            "text/plain": [
              "'/content/drive/MyDrive'"
            ],
            "application/vnd.google.colaboratory.intrinsic+json": {
              "type": "string"
            }
          },
          "metadata": {},
          "execution_count": 5
        }
      ]
    },
    {
      "cell_type": "code",
      "source": [
        "train_datagen = ImageDataGenerator(\n",
        "    rescale=1.0 / 255,\n",
        "    validation_split=0.2,\n",
        ")\n",
        "\n",
        "train_generator = train_datagen.flow_from_directory(\n",
        "    '/content/drive/MyDrive/archive',\n",
        "    target_size=(124, 124),\n",
        "    batch_size=16,\n",
        "    class_mode='categorical',\n",
        "    subset='training'\n",
        ")\n",
        "\n",
        "validation_generator = train_datagen.flow_from_directory(\n",
        "    '/content/drive/MyDrive/archive',\n",
        "    target_size=(124, 124),\n",
        "    batch_size=16,\n",
        "    class_mode='categorical',\n",
        "    subset='validation'\n",
        ")"
      ],
      "metadata": {
        "colab": {
          "base_uri": "https://localhost:8080/"
        },
        "id": "OddycCGIhS_e",
        "outputId": "42d26954-bd7b-4bd2-e8ad-042f672d99c8"
      },
      "execution_count": null,
      "outputs": [
        {
          "output_type": "stream",
          "name": "stdout",
          "text": [
            "Found 523 images belonging to 5 classes.\n",
            "Found 128 images belonging to 5 classes.\n"
          ]
        }
      ]
    },
    {
      "cell_type": "markdown",
      "source": [
        "from tensorflow.keras.preprocessing.image import ImageDataGenerator\n",
        "\n",
        "train_datagen = ImageDataGenerator(\n",
        "    rescale=1.0 / 255,\n",
        "    validation_split=0.2,\n",
        ")\n",
        "\n",
        "train_generator = train_datagen.flow_from_directory(\n",
        "    '/your_dataset_directory',  # Replace with your actual dataset path\n",
        "    target_size=(124, 124),\n",
        "    batch_size=16,\n",
        "    class_mode='categorical',\n",
        "    subset='training'\n",
        ")\n",
        "\n",
        "validation_generator = train_datagen.flow_from_directory(\n",
        "    '/your_dataset_directory',  # Replace with your actual dataset path\n",
        "    target_size=(124, 124),\n",
        "    batch_size=16,\n",
        "    class_mode='categorical',\n",
        "    subset='validation'\n",
        ")\n"
      ],
      "metadata": {
        "id": "CxH6pVMfbshJ"
      }
    },
    {
      "cell_type": "code",
      "source": [
        "#from tensorflow.keras.preprocessing.image import ImageDataGenerator\n",
        "#train_datagen = ImageDataGenerator( rescale=1.0 / 255, validation_split=0.2, )\n",
        "#train_generator = train_datagen.flow_from_directory( '/your_dataset_directory', # Replace with your actual dataset path target_size=(124, 124), batch_size=16, class_mode='categorical', subset='training' )\n",
        "#validation_generator = train_datagen.flow_from_directory( '/your_dataset_directory', # Replace with your actual dataset path target_size=(124, 124), batch_size=16, class_mode='categorical', subset='validation' )"
      ],
      "metadata": {
        "id": "s8SNsrezcqgn"
      },
      "execution_count": null,
      "outputs": []
    },
    {
      "cell_type": "markdown",
      "source": [
        "from sklearn.model_selection import train_test_split\n",
        "\n",
        "Assuming you have your dataset and labels\n",
        "X, y = load_your_data()\n",
        "\n",
        "Split the data into training and testing sets (80% - 20% split)\n",
        "X_train, X_test, y_train, y_test = train_test_split(X, y, test_size=0.2, random_state=42)"
      ],
      "metadata": {
        "id": "5e86g22Jceif"
      }
    },
    {
      "cell_type": "code",
      "source": [
        "#from sklearn.model_selection import train_test_split\n",
        "#X, y = load_your_data()\n",
        "#X_train, X_test, y_train, y_test = train_test_split(X, y, test_size=0.2, random_state=42)"
      ],
      "metadata": {
        "id": "gUgvZNXMcw1v"
      },
      "execution_count": null,
      "outputs": []
    },
    {
      "cell_type": "code",
      "source": [
        "train_generator[0]"
      ],
      "metadata": {
        "colab": {
          "base_uri": "https://localhost:8080/"
        },
        "id": "vvgl46kFZinP",
        "outputId": "fdc34abc-f319-4716-938b-3e1cc9004c08"
      },
      "execution_count": null,
      "outputs": [
        {
          "output_type": "execute_result",
          "data": {
            "text/plain": [
              "(array([[[[1.        , 1.        , 1.        ],\n",
              "          [1.        , 1.        , 1.        ],\n",
              "          [1.        , 1.        , 1.        ],\n",
              "          ...,\n",
              "          [1.        , 1.        , 1.        ],\n",
              "          [1.        , 1.        , 1.        ],\n",
              "          [1.        , 1.        , 1.        ]],\n",
              " \n",
              "         [[1.        , 1.        , 1.        ],\n",
              "          [1.        , 1.        , 1.        ],\n",
              "          [1.        , 1.        , 1.        ],\n",
              "          ...,\n",
              "          [1.        , 1.        , 1.        ],\n",
              "          [1.        , 1.        , 1.        ],\n",
              "          [1.        , 1.        , 1.        ]],\n",
              " \n",
              "         [[1.        , 1.        , 1.        ],\n",
              "          [1.        , 1.        , 1.        ],\n",
              "          [1.        , 1.        , 1.        ],\n",
              "          ...,\n",
              "          [1.        , 1.        , 1.        ],\n",
              "          [1.        , 1.        , 1.        ],\n",
              "          [1.        , 1.        , 1.        ]],\n",
              " \n",
              "         ...,\n",
              " \n",
              "         [[1.        , 1.        , 1.        ],\n",
              "          [1.        , 1.        , 1.        ],\n",
              "          [1.        , 1.        , 1.        ],\n",
              "          ...,\n",
              "          [0.9960785 , 0.9960785 , 0.9960785 ],\n",
              "          [0.9960785 , 0.9960785 , 0.9960785 ],\n",
              "          [0.9960785 , 0.9960785 , 0.9960785 ]],\n",
              " \n",
              "         [[1.        , 1.        , 1.        ],\n",
              "          [1.        , 1.        , 1.        ],\n",
              "          [1.        , 1.        , 1.        ],\n",
              "          ...,\n",
              "          [0.9960785 , 0.9960785 , 0.9960785 ],\n",
              "          [0.9960785 , 0.9960785 , 0.9960785 ],\n",
              "          [0.9960785 , 0.9960785 , 0.9960785 ]],\n",
              " \n",
              "         [[1.        , 1.        , 1.        ],\n",
              "          [1.        , 1.        , 1.        ],\n",
              "          [1.        , 1.        , 1.        ],\n",
              "          ...,\n",
              "          [0.9960785 , 0.9960785 , 0.9960785 ],\n",
              "          [0.9960785 , 0.9960785 , 0.9960785 ],\n",
              "          [0.9960785 , 0.9960785 , 0.9960785 ]]],\n",
              " \n",
              " \n",
              "        [[[0.9450981 , 0.9450981 , 0.9450981 ],\n",
              "          [0.9450981 , 0.9450981 , 0.9450981 ],\n",
              "          [0.9450981 , 0.9450981 , 0.9450981 ],\n",
              "          ...,\n",
              "          [0.85098046, 0.882353  , 0.8941177 ],\n",
              "          [0.8470589 , 0.87843144, 0.89019614],\n",
              "          [0.8431373 , 0.8745099 , 0.8862746 ]],\n",
              " \n",
              "         [[0.9450981 , 0.9450981 , 0.9450981 ],\n",
              "          [0.9450981 , 0.9450981 , 0.9450981 ],\n",
              "          [0.9450981 , 0.9450981 , 0.9450981 ],\n",
              "          ...,\n",
              "          [0.8470589 , 0.87843144, 0.89019614],\n",
              "          [0.8470589 , 0.87843144, 0.89019614],\n",
              "          [0.8431373 , 0.8745099 , 0.8862746 ]],\n",
              " \n",
              "         [[0.9450981 , 0.9450981 , 0.9450981 ],\n",
              "          [0.9450981 , 0.9450981 , 0.9450981 ],\n",
              "          [0.9450981 , 0.9450981 , 0.9450981 ],\n",
              "          ...,\n",
              "          [0.854902  , 0.8745099 , 0.89019614],\n",
              "          [0.85098046, 0.8705883 , 0.8862746 ],\n",
              "          [0.8470589 , 0.86666673, 0.882353  ]],\n",
              " \n",
              "         ...,\n",
              " \n",
              "         [[0.90196085, 0.69411767, 0.41960788],\n",
              "          [0.90196085, 0.69803923, 0.41176474],\n",
              "          [0.909804  , 0.7137255 , 0.427451  ],\n",
              "          ...,\n",
              "          [0.9215687 , 0.76470596, 0.5254902 ],\n",
              "          [0.90196085, 0.74509805, 0.5058824 ],\n",
              "          [0.882353  , 0.73333335, 0.4901961 ]],\n",
              " \n",
              "         [[0.882353  , 0.6862745 , 0.4156863 ],\n",
              "          [0.86274517, 0.6666667 , 0.38823533],\n",
              "          [0.8862746 , 0.68235296, 0.39607847],\n",
              "          ...,\n",
              "          [0.909804  , 0.75294125, 0.5137255 ],\n",
              "          [0.92549026, 0.7686275 , 0.5294118 ],\n",
              "          [0.91372555, 0.76470596, 0.52156866]],\n",
              " \n",
              "         [[0.8980393 , 0.7019608 , 0.43137258],\n",
              "          [0.87843144, 0.68235296, 0.41176474],\n",
              "          [0.9215687 , 0.7137255 , 0.43921572],\n",
              "          ...,\n",
              "          [0.9058824 , 0.7490196 , 0.50980395],\n",
              "          [0.9294118 , 0.7725491 , 0.53333336],\n",
              "          [0.92549026, 0.77647066, 0.53333336]]],\n",
              " \n",
              " \n",
              "        [[[0.15686275, 0.15686275, 0.15686275],\n",
              "          [0.20784315, 0.20784315, 0.20784315],\n",
              "          [0.20000002, 0.20000002, 0.20000002],\n",
              "          ...,\n",
              "          [0.38431376, 0.38431376, 0.38431376],\n",
              "          [0.25882354, 0.25882354, 0.25882354],\n",
              "          [0.21176472, 0.21176472, 0.21176472]],\n",
              " \n",
              "         [[0.23529413, 0.23529413, 0.23529413],\n",
              "          [0.21176472, 0.21176472, 0.21176472],\n",
              "          [0.5529412 , 0.5529412 , 0.5529412 ],\n",
              "          ...,\n",
              "          [0.6784314 , 0.6784314 , 0.6784314 ],\n",
              "          [0.68235296, 0.68235296, 0.68235296],\n",
              "          [0.68235296, 0.68235296, 0.68235296]],\n",
              " \n",
              "         [[0.23529413, 0.23529413, 0.23529413],\n",
              "          [0.15294118, 0.15294118, 0.15294118],\n",
              "          [0.23529413, 0.23529413, 0.23529413],\n",
              "          ...,\n",
              "          [0.6784314 , 0.6784314 , 0.6784314 ],\n",
              "          [0.6666667 , 0.6666667 , 0.6666667 ],\n",
              "          [0.64705884, 0.64705884, 0.64705884]],\n",
              " \n",
              "         ...,\n",
              " \n",
              "         [[1.        , 1.        , 1.        ],\n",
              "          [1.        , 1.        , 1.        ],\n",
              "          [1.        , 1.        , 1.        ],\n",
              "          ...,\n",
              "          [0.95294124, 0.95294124, 0.95294124],\n",
              "          [0.96470594, 0.96470594, 0.96470594],\n",
              "          [0.9803922 , 0.9803922 , 0.9803922 ]],\n",
              " \n",
              "         [[1.        , 1.        , 1.        ],\n",
              "          [1.        , 1.        , 1.        ],\n",
              "          [1.        , 1.        , 1.        ],\n",
              "          ...,\n",
              "          [0.9686275 , 0.9686275 , 0.9686275 ],\n",
              "          [0.9725491 , 0.9725491 , 0.9725491 ],\n",
              "          [0.98823535, 0.98823535, 0.98823535]],\n",
              " \n",
              "         [[1.        , 1.        , 1.        ],\n",
              "          [1.        , 1.        , 1.        ],\n",
              "          [1.        , 1.        , 1.        ],\n",
              "          ...,\n",
              "          [0.97647065, 0.97647065, 0.97647065],\n",
              "          [0.9686275 , 0.9686275 , 0.9686275 ],\n",
              "          [0.9686275 , 0.9686275 , 0.9686275 ]]],\n",
              " \n",
              " \n",
              "        ...,\n",
              " \n",
              " \n",
              "        [[[0.9725491 , 0.9568628 , 0.909804  ],\n",
              "          [0.9725491 , 0.9568628 , 0.909804  ],\n",
              "          [0.9725491 , 0.9568628 , 0.909804  ],\n",
              "          ...,\n",
              "          [0.9725491 , 0.9568628 , 0.909804  ],\n",
              "          [0.9725491 , 0.9568628 , 0.909804  ],\n",
              "          [0.9725491 , 0.9568628 , 0.909804  ]],\n",
              " \n",
              "         [[0.9725491 , 0.9568628 , 0.909804  ],\n",
              "          [0.9725491 , 0.9568628 , 0.909804  ],\n",
              "          [0.9725491 , 0.9568628 , 0.909804  ],\n",
              "          ...,\n",
              "          [0.9725491 , 0.9568628 , 0.909804  ],\n",
              "          [0.9725491 , 0.9568628 , 0.909804  ],\n",
              "          [0.9725491 , 0.9568628 , 0.909804  ]],\n",
              " \n",
              "         [[0.9725491 , 0.9568628 , 0.909804  ],\n",
              "          [0.9725491 , 0.9568628 , 0.909804  ],\n",
              "          [0.9725491 , 0.9568628 , 0.909804  ],\n",
              "          ...,\n",
              "          [0.9725491 , 0.9568628 , 0.909804  ],\n",
              "          [0.9725491 , 0.9568628 , 0.909804  ],\n",
              "          [0.9725491 , 0.9568628 , 0.909804  ]],\n",
              " \n",
              "         ...,\n",
              " \n",
              "         [[0.00392157, 0.00392157, 0.00392157],\n",
              "          [0.00392157, 0.00392157, 0.00392157],\n",
              "          [0.00392157, 0.00392157, 0.00392157],\n",
              "          ...,\n",
              "          [0.00392157, 0.00392157, 0.00392157],\n",
              "          [0.00392157, 0.00392157, 0.00392157],\n",
              "          [0.00392157, 0.00392157, 0.00392157]],\n",
              " \n",
              "         [[0.00392157, 0.00392157, 0.00392157],\n",
              "          [0.00392157, 0.00392157, 0.00392157],\n",
              "          [0.00392157, 0.00392157, 0.00392157],\n",
              "          ...,\n",
              "          [0.00392157, 0.00392157, 0.00392157],\n",
              "          [0.00392157, 0.00392157, 0.00392157],\n",
              "          [0.00392157, 0.00392157, 0.00392157]],\n",
              " \n",
              "         [[0.00392157, 0.00392157, 0.00392157],\n",
              "          [0.00392157, 0.00392157, 0.00392157],\n",
              "          [0.00392157, 0.00392157, 0.00392157],\n",
              "          ...,\n",
              "          [0.00392157, 0.00392157, 0.00392157],\n",
              "          [0.00392157, 0.00392157, 0.00392157],\n",
              "          [0.00392157, 0.00392157, 0.00392157]]],\n",
              " \n",
              " \n",
              "        [[[0.94117653, 0.94117653, 0.94117653],\n",
              "          [0.94117653, 0.94117653, 0.94117653],\n",
              "          [0.94117653, 0.94117653, 0.94117653],\n",
              "          ...,\n",
              "          [0.94117653, 0.94117653, 0.94117653],\n",
              "          [0.94117653, 0.94117653, 0.94117653],\n",
              "          [0.94117653, 0.94117653, 0.94117653]],\n",
              " \n",
              "         [[0.94117653, 0.94117653, 0.94117653],\n",
              "          [0.94117653, 0.94117653, 0.94117653],\n",
              "          [0.94117653, 0.94117653, 0.94117653],\n",
              "          ...,\n",
              "          [0.94117653, 0.94117653, 0.94117653],\n",
              "          [0.94117653, 0.94117653, 0.94117653],\n",
              "          [0.94117653, 0.94117653, 0.94117653]],\n",
              " \n",
              "         [[0.94117653, 0.94117653, 0.94117653],\n",
              "          [0.94117653, 0.94117653, 0.94117653],\n",
              "          [0.94117653, 0.94117653, 0.94117653],\n",
              "          ...,\n",
              "          [0.94117653, 0.94117653, 0.94117653],\n",
              "          [0.94117653, 0.94117653, 0.94117653],\n",
              "          [0.94117653, 0.94117653, 0.94117653]],\n",
              " \n",
              "         ...,\n",
              " \n",
              "         [[0.94117653, 0.94117653, 0.94117653],\n",
              "          [0.94117653, 0.94117653, 0.94117653],\n",
              "          [0.94117653, 0.94117653, 0.94117653],\n",
              "          ...,\n",
              "          [0.94117653, 0.94117653, 0.94117653],\n",
              "          [0.94117653, 0.94117653, 0.94117653],\n",
              "          [0.94117653, 0.94117653, 0.94117653]],\n",
              " \n",
              "         [[0.94117653, 0.94117653, 0.94117653],\n",
              "          [0.94117653, 0.94117653, 0.94117653],\n",
              "          [0.94117653, 0.94117653, 0.94117653],\n",
              "          ...,\n",
              "          [0.94117653, 0.94117653, 0.94117653],\n",
              "          [0.94117653, 0.94117653, 0.94117653],\n",
              "          [0.94117653, 0.94117653, 0.94117653]],\n",
              " \n",
              "         [[0.94117653, 0.94117653, 0.94117653],\n",
              "          [0.94117653, 0.94117653, 0.94117653],\n",
              "          [0.94117653, 0.94117653, 0.94117653],\n",
              "          ...,\n",
              "          [0.94117653, 0.94117653, 0.94117653],\n",
              "          [0.94117653, 0.94117653, 0.94117653],\n",
              "          [0.94117653, 0.94117653, 0.94117653]]],\n",
              " \n",
              " \n",
              "        [[[0.9725491 , 0.9725491 , 0.9725491 ],\n",
              "          [0.9725491 , 0.9725491 , 0.9725491 ],\n",
              "          [0.9725491 , 0.9725491 , 0.9725491 ],\n",
              "          ...,\n",
              "          [0.9725491 , 0.9725491 , 0.9725491 ],\n",
              "          [0.9725491 , 0.9725491 , 0.9725491 ],\n",
              "          [0.9725491 , 0.9725491 , 0.9725491 ]],\n",
              " \n",
              "         [[0.9725491 , 0.9725491 , 0.9725491 ],\n",
              "          [0.9725491 , 0.9725491 , 0.9725491 ],\n",
              "          [0.9725491 , 0.9725491 , 0.9725491 ],\n",
              "          ...,\n",
              "          [0.9725491 , 0.9725491 , 0.9725491 ],\n",
              "          [0.9725491 , 0.9725491 , 0.9725491 ],\n",
              "          [0.9725491 , 0.9725491 , 0.9725491 ]],\n",
              " \n",
              "         [[0.9725491 , 0.9725491 , 0.9725491 ],\n",
              "          [0.9725491 , 0.9725491 , 0.9725491 ],\n",
              "          [0.9725491 , 0.9725491 , 0.9725491 ],\n",
              "          ...,\n",
              "          [0.9725491 , 0.9725491 , 0.9725491 ],\n",
              "          [0.9725491 , 0.9725491 , 0.9725491 ],\n",
              "          [0.9725491 , 0.9725491 , 0.9725491 ]],\n",
              " \n",
              "         ...,\n",
              " \n",
              "         [[0.9725491 , 0.9725491 , 0.9725491 ],\n",
              "          [0.9725491 , 0.9725491 , 0.9725491 ],\n",
              "          [0.9725491 , 0.9725491 , 0.9725491 ],\n",
              "          ...,\n",
              "          [0.9725491 , 0.9725491 , 0.9725491 ],\n",
              "          [0.9725491 , 0.9725491 , 0.9725491 ],\n",
              "          [0.9725491 , 0.9725491 , 0.9725491 ]],\n",
              " \n",
              "         [[0.9725491 , 0.9725491 , 0.9725491 ],\n",
              "          [0.9725491 , 0.9725491 , 0.9725491 ],\n",
              "          [0.9725491 , 0.9725491 , 0.9725491 ],\n",
              "          ...,\n",
              "          [0.9725491 , 0.9725491 , 0.9725491 ],\n",
              "          [0.9725491 , 0.9725491 , 0.9725491 ],\n",
              "          [0.9725491 , 0.9725491 , 0.9725491 ]],\n",
              " \n",
              "         [[0.9725491 , 0.9725491 , 0.9725491 ],\n",
              "          [0.9725491 , 0.9725491 , 0.9725491 ],\n",
              "          [0.9725491 , 0.9725491 , 0.9725491 ],\n",
              "          ...,\n",
              "          [0.9725491 , 0.9725491 , 0.9725491 ],\n",
              "          [0.9725491 , 0.9725491 , 0.9725491 ],\n",
              "          [0.9725491 , 0.9725491 , 0.9725491 ]]]], dtype=float32),\n",
              " array([[0., 0., 1., 0., 0.],\n",
              "        [0., 0., 0., 1., 0.],\n",
              "        [0., 1., 0., 0., 0.],\n",
              "        [0., 0., 0., 1., 0.],\n",
              "        [0., 0., 0., 1., 0.],\n",
              "        [0., 0., 0., 1., 0.],\n",
              "        [0., 0., 0., 0., 1.],\n",
              "        [0., 1., 0., 0., 0.],\n",
              "        [0., 0., 0., 1., 0.],\n",
              "        [0., 0., 0., 1., 0.],\n",
              "        [0., 0., 0., 0., 1.],\n",
              "        [1., 0., 0., 0., 0.],\n",
              "        [0., 0., 0., 1., 0.],\n",
              "        [0., 0., 0., 0., 1.],\n",
              "        [0., 0., 0., 1., 0.],\n",
              "        [0., 1., 0., 0., 0.]], dtype=float32))"
            ]
          },
          "metadata": {},
          "execution_count": 7
        }
      ]
    },
    {
      "cell_type": "code",
      "source": [
        "train_generator.image_shape"
      ],
      "metadata": {
        "colab": {
          "base_uri": "https://localhost:8080/"
        },
        "id": "ZS0n2AZIjO8l",
        "outputId": "b128bbca-5775-4fd0-d327-6e3571134d8b"
      },
      "execution_count": null,
      "outputs": [
        {
          "output_type": "execute_result",
          "data": {
            "text/plain": [
              "(124, 124, 3)"
            ]
          },
          "metadata": {},
          "execution_count": 9
        }
      ]
    },
    {
      "cell_type": "code",
      "source": [
        "validation_generator.image_shape"
      ],
      "metadata": {
        "colab": {
          "base_uri": "https://localhost:8080/"
        },
        "id": "sX9OXFw0kGBk",
        "outputId": "67196299-9b9f-41cb-e956-a8452ebe01a9"
      },
      "execution_count": null,
      "outputs": [
        {
          "output_type": "execute_result",
          "data": {
            "text/plain": [
              "(124, 124, 3)"
            ]
          },
          "metadata": {},
          "execution_count": 10
        }
      ]
    },
    {
      "cell_type": "code",
      "source": [
        "model = keras.Sequential ([\n",
        "    layers.Conv2D (2, (3, 3), activation = 'sigmoid', strides = 1, padding = 'valid', input_shape = (124, 124, 3)),\n",
        "    layers.MaxPool2D (2, 2),\n",
        "\n",
        "    layers.Conv2D (2, (3, 3), activation = 'relu', strides = 1),\n",
        "    layers.MaxPool2D (2, 2),\n",
        "\n",
        "    tf.keras.layers.Flatten(),\n",
        "    tf.keras.layers.Dense (50, activation = 'relu'),\n",
        "    tf.keras.layers.Dense (5, activation = 'softmax')\n",
        "])"
      ],
      "metadata": {
        "id": "6kktFvL9kPJN"
      },
      "execution_count": null,
      "outputs": []
    },
    {
      "cell_type": "code",
      "source": [
        "model.summary()"
      ],
      "metadata": {
        "colab": {
          "base_uri": "https://localhost:8080/"
        },
        "id": "6GJ9LCgiqDyH",
        "outputId": "cc8b0cac-e1ad-4ca0-e85d-4406c672a2a5"
      },
      "execution_count": null,
      "outputs": [
        {
          "output_type": "stream",
          "name": "stdout",
          "text": [
            "Model: \"sequential\"\n",
            "_________________________________________________________________\n",
            " Layer (type)                Output Shape              Param #   \n",
            "=================================================================\n",
            " conv2d_1 (Conv2D)           (None, 122, 122, 2)       56        \n",
            "                                                                 \n",
            " max_pooling2d_1 (MaxPoolin  (None, 61, 61, 2)         0         \n",
            " g2D)                                                            \n",
            "                                                                 \n",
            " conv2d_2 (Conv2D)           (None, 59, 59, 2)         38        \n",
            "                                                                 \n",
            " max_pooling2d_2 (MaxPoolin  (None, 29, 29, 2)         0         \n",
            " g2D)                                                            \n",
            "                                                                 \n",
            " flatten (Flatten)           (None, 1682)              0         \n",
            "                                                                 \n",
            " dense (Dense)               (None, 50)                84150     \n",
            "                                                                 \n",
            " dense_1 (Dense)             (None, 5)                 255       \n",
            "                                                                 \n",
            "=================================================================\n",
            "Total params: 84499 (330.07 KB)\n",
            "Trainable params: 84499 (330.07 KB)\n",
            "Non-trainable params: 0 (0.00 Byte)\n",
            "_________________________________________________________________\n"
          ]
        }
      ]
    },
    {
      "cell_type": "code",
      "source": [
        "model.compile(\n",
        "    optimizer='adam',\n",
        "    loss='categorical_crossentropy',\n",
        "    metrics=['accuracy']\n",
        ")"
      ],
      "metadata": {
        "id": "wEqpUc0NqLh9"
      },
      "execution_count": null,
      "outputs": []
    },
    {
      "cell_type": "code",
      "source": [
        "history = model.fit (\n",
        "    train_generator,\n",
        "    validation_data = validation_generator,\n",
        "    epochs = 50\n",
        ")"
      ],
      "metadata": {
        "colab": {
          "base_uri": "https://localhost:8080/"
        },
        "id": "5dOHfMQWqi0F",
        "outputId": "4bbe272e-87a2-4818-b3cd-3c3e3e4ff978"
      },
      "execution_count": null,
      "outputs": [
        {
          "output_type": "stream",
          "name": "stdout",
          "text": [
            "Epoch 1/50\n",
            "33/33 [==============================] - 154s 5s/step - loss: 1.9122 - accuracy: 0.2046 - val_loss: 1.6092 - val_accuracy: 0.2656\n",
            "Epoch 2/50\n",
            "33/33 [==============================] - 4s 115ms/step - loss: 1.6367 - accuracy: 0.2256 - val_loss: 1.5986 - val_accuracy: 0.3047\n",
            "Epoch 3/50\n",
            "33/33 [==============================] - 3s 76ms/step - loss: 1.6226 - accuracy: 0.2333 - val_loss: 1.5859 - val_accuracy: 0.2656\n",
            "Epoch 4/50\n",
            "33/33 [==============================] - 3s 77ms/step - loss: 1.6043 - accuracy: 0.2333 - val_loss: 1.5851 - val_accuracy: 0.2266\n",
            "Epoch 5/50\n",
            "33/33 [==============================] - 3s 76ms/step - loss: 1.5857 - accuracy: 0.2734 - val_loss: 1.5821 - val_accuracy: 0.2188\n",
            "Epoch 6/50\n",
            "33/33 [==============================] - 3s 75ms/step - loss: 1.6077 - accuracy: 0.2543 - val_loss: 1.6440 - val_accuracy: 0.2188\n",
            "Epoch 7/50\n",
            "33/33 [==============================] - 3s 77ms/step - loss: 1.5903 - accuracy: 0.2409 - val_loss: 1.5884 - val_accuracy: 0.2656\n",
            "Epoch 8/50\n",
            "33/33 [==============================] - 3s 92ms/step - loss: 1.5800 - accuracy: 0.2849 - val_loss: 1.6236 - val_accuracy: 0.2656\n",
            "Epoch 9/50\n",
            "33/33 [==============================] - 3s 75ms/step - loss: 1.5707 - accuracy: 0.3021 - val_loss: 1.5524 - val_accuracy: 0.2891\n",
            "Epoch 10/50\n",
            "33/33 [==============================] - 3s 76ms/step - loss: 1.5563 - accuracy: 0.3174 - val_loss: 1.5486 - val_accuracy: 0.3984\n",
            "Epoch 11/50\n",
            "33/33 [==============================] - 3s 106ms/step - loss: 1.5519 - accuracy: 0.3021 - val_loss: 1.5429 - val_accuracy: 0.2734\n",
            "Epoch 12/50\n",
            "33/33 [==============================] - 3s 82ms/step - loss: 1.5507 - accuracy: 0.3212 - val_loss: 1.5467 - val_accuracy: 0.3438\n",
            "Epoch 13/50\n",
            "33/33 [==============================] - 3s 75ms/step - loss: 1.5513 - accuracy: 0.3155 - val_loss: 1.5607 - val_accuracy: 0.2656\n",
            "Epoch 14/50\n",
            "33/33 [==============================] - 3s 75ms/step - loss: 1.5350 - accuracy: 0.3442 - val_loss: 1.5325 - val_accuracy: 0.3125\n",
            "Epoch 15/50\n",
            "33/33 [==============================] - 4s 112ms/step - loss: 1.5350 - accuracy: 0.3231 - val_loss: 1.5292 - val_accuracy: 0.3984\n",
            "Epoch 16/50\n",
            "33/33 [==============================] - 3s 75ms/step - loss: 1.5228 - accuracy: 0.3614 - val_loss: 1.5227 - val_accuracy: 0.3359\n",
            "Epoch 17/50\n",
            "33/33 [==============================] - 3s 86ms/step - loss: 1.5073 - accuracy: 0.3709 - val_loss: 1.5182 - val_accuracy: 0.3359\n",
            "Epoch 18/50\n",
            "33/33 [==============================] - 4s 123ms/step - loss: 1.4959 - accuracy: 0.3652 - val_loss: 1.5131 - val_accuracy: 0.3750\n",
            "Epoch 19/50\n",
            "33/33 [==============================] - 3s 93ms/step - loss: 1.4881 - accuracy: 0.3939 - val_loss: 1.5151 - val_accuracy: 0.3594\n",
            "Epoch 20/50\n",
            "33/33 [==============================] - 3s 78ms/step - loss: 1.4692 - accuracy: 0.3996 - val_loss: 1.5204 - val_accuracy: 0.3438\n",
            "Epoch 21/50\n",
            "33/33 [==============================] - 3s 77ms/step - loss: 1.4451 - accuracy: 0.4130 - val_loss: 1.5399 - val_accuracy: 0.3516\n",
            "Epoch 22/50\n",
            "33/33 [==============================] - 3s 105ms/step - loss: 1.4363 - accuracy: 0.4207 - val_loss: 1.5277 - val_accuracy: 0.3594\n",
            "Epoch 23/50\n",
            "33/33 [==============================] - 3s 78ms/step - loss: 1.4400 - accuracy: 0.4111 - val_loss: 1.5025 - val_accuracy: 0.3750\n",
            "Epoch 24/50\n",
            "33/33 [==============================] - 3s 78ms/step - loss: 1.3930 - accuracy: 0.4264 - val_loss: 1.4919 - val_accuracy: 0.3672\n",
            "Epoch 25/50\n",
            "33/33 [==============================] - 3s 78ms/step - loss: 1.3737 - accuracy: 0.4321 - val_loss: 1.4661 - val_accuracy: 0.4062\n",
            "Epoch 26/50\n",
            "33/33 [==============================] - 3s 77ms/step - loss: 1.3373 - accuracy: 0.4723 - val_loss: 1.4580 - val_accuracy: 0.4219\n",
            "Epoch 27/50\n",
            "33/33 [==============================] - 3s 75ms/step - loss: 1.3083 - accuracy: 0.4857 - val_loss: 1.4720 - val_accuracy: 0.3828\n",
            "Epoch 28/50\n",
            "33/33 [==============================] - 2s 75ms/step - loss: 1.2888 - accuracy: 0.4704 - val_loss: 1.4211 - val_accuracy: 0.4062\n",
            "Epoch 29/50\n",
            "33/33 [==============================] - 3s 76ms/step - loss: 1.2664 - accuracy: 0.4933 - val_loss: 1.4132 - val_accuracy: 0.4062\n",
            "Epoch 30/50\n",
            "33/33 [==============================] - 3s 76ms/step - loss: 1.2390 - accuracy: 0.4933 - val_loss: 1.4687 - val_accuracy: 0.3906\n",
            "Epoch 31/50\n",
            "33/33 [==============================] - 3s 96ms/step - loss: 1.2282 - accuracy: 0.5029 - val_loss: 1.3580 - val_accuracy: 0.4297\n",
            "Epoch 32/50\n",
            "33/33 [==============================] - 3s 76ms/step - loss: 1.2101 - accuracy: 0.5220 - val_loss: 1.4860 - val_accuracy: 0.4141\n",
            "Epoch 33/50\n",
            "33/33 [==============================] - 2s 74ms/step - loss: 1.1726 - accuracy: 0.5239 - val_loss: 1.3916 - val_accuracy: 0.4219\n",
            "Epoch 34/50\n",
            "33/33 [==============================] - 3s 78ms/step - loss: 1.1667 - accuracy: 0.5335 - val_loss: 1.4027 - val_accuracy: 0.4297\n",
            "Epoch 35/50\n",
            "33/33 [==============================] - 4s 108ms/step - loss: 1.1107 - accuracy: 0.5641 - val_loss: 1.2965 - val_accuracy: 0.4609\n",
            "Epoch 36/50\n",
            "33/33 [==============================] - 3s 76ms/step - loss: 1.0777 - accuracy: 0.5526 - val_loss: 1.3801 - val_accuracy: 0.4531\n",
            "Epoch 37/50\n",
            "33/33 [==============================] - 3s 76ms/step - loss: 1.0424 - accuracy: 0.5774 - val_loss: 1.3002 - val_accuracy: 0.5234\n",
            "Epoch 38/50\n",
            "33/33 [==============================] - 3s 77ms/step - loss: 1.0315 - accuracy: 0.5793 - val_loss: 1.3249 - val_accuracy: 0.5234\n",
            "Epoch 39/50\n",
            "33/33 [==============================] - 3s 83ms/step - loss: 1.0372 - accuracy: 0.5851 - val_loss: 1.2808 - val_accuracy: 0.5000\n",
            "Epoch 40/50\n",
            "33/33 [==============================] - 3s 79ms/step - loss: 0.9994 - accuracy: 0.5889 - val_loss: 1.3010 - val_accuracy: 0.4922\n",
            "Epoch 41/50\n",
            "33/33 [==============================] - 3s 75ms/step - loss: 0.9736 - accuracy: 0.6157 - val_loss: 1.2674 - val_accuracy: 0.5312\n",
            "Epoch 42/50\n",
            "33/33 [==============================] - 3s 75ms/step - loss: 0.9287 - accuracy: 0.6291 - val_loss: 1.3411 - val_accuracy: 0.5156\n",
            "Epoch 43/50\n",
            "33/33 [==============================] - 3s 78ms/step - loss: 0.8886 - accuracy: 0.6482 - val_loss: 1.2874 - val_accuracy: 0.5234\n",
            "Epoch 44/50\n",
            "33/33 [==============================] - 3s 97ms/step - loss: 0.8620 - accuracy: 0.6501 - val_loss: 1.3792 - val_accuracy: 0.4922\n",
            "Epoch 45/50\n",
            "33/33 [==============================] - 3s 77ms/step - loss: 0.8855 - accuracy: 0.6616 - val_loss: 1.3942 - val_accuracy: 0.4688\n",
            "Epoch 46/50\n",
            "33/33 [==============================] - 3s 76ms/step - loss: 0.8349 - accuracy: 0.6788 - val_loss: 1.3812 - val_accuracy: 0.5234\n",
            "Epoch 47/50\n",
            "33/33 [==============================] - 3s 75ms/step - loss: 0.7995 - accuracy: 0.6826 - val_loss: 1.3457 - val_accuracy: 0.4766\n",
            "Epoch 48/50\n",
            "33/33 [==============================] - 3s 75ms/step - loss: 0.7685 - accuracy: 0.6788 - val_loss: 1.3329 - val_accuracy: 0.5625\n",
            "Epoch 49/50\n",
            "33/33 [==============================] - 2s 74ms/step - loss: 0.7726 - accuracy: 0.6922 - val_loss: 1.3019 - val_accuracy: 0.5391\n",
            "Epoch 50/50\n",
            "33/33 [==============================] - 3s 93ms/step - loss: 0.7879 - accuracy: 0.6769 - val_loss: 1.3361 - val_accuracy: 0.5703\n"
          ]
        }
      ]
    },
    {
      "cell_type": "code",
      "source": [
        "test_loss, test_accuracy = model.evaluate(validation_generator)"
      ],
      "metadata": {
        "colab": {
          "base_uri": "https://localhost:8080/"
        },
        "id": "3Nd51nHGzjaW",
        "outputId": "d0e7586b-7816-4bae-f910-5902e32f06c5"
      },
      "execution_count": null,
      "outputs": [
        {
          "output_type": "stream",
          "name": "stdout",
          "text": [
            "8/8 [==============================] - 0s 38ms/step - loss: 1.3361 - accuracy: 0.5703\n"
          ]
        }
      ]
    },
    {
      "cell_type": "code",
      "source": [
        "print (\"Test loss : \", test_loss)\n",
        "print (\"Test accuracy : \", test_accuracy)"
      ],
      "metadata": {
        "colab": {
          "base_uri": "https://localhost:8080/"
        },
        "id": "1DgD4gnR0ICP",
        "outputId": "1f295085-a1d9-4fa7-dc13-012b065638b2"
      },
      "execution_count": null,
      "outputs": [
        {
          "output_type": "stream",
          "name": "stdout",
          "text": [
            "Test loss :  1.336079716682434\n",
            "Test accuracy :  0.5703125\n"
          ]
        }
      ]
    },
    {
      "cell_type": "code",
      "source": [
        "plt.plot (history.history ['loss'], label = 'Train loss')\n",
        "plt.plot (history.history ['val_loss'], label = 'Validation loss')\n",
        "plt.legend()\n",
        "plt.savefig ('Image.jpg')\n",
        "plt.show()"
      ],
      "metadata": {
        "colab": {
          "base_uri": "https://localhost:8080/",
          "height": 430
        },
        "id": "_R8SnnhvwUr1",
        "outputId": "6795749f-e59e-49ca-f8f6-4d2eaa42730b"
      },
      "execution_count": null,
      "outputs": [
        {
          "output_type": "display_data",
          "data": {
            "text/plain": [
              "<Figure size 640x480 with 1 Axes>"
            ],
            "image/png": "[encoded data removed]"
          },
          "metadata": {}
        }
      ]
    },
    {
      "cell_type": "code",
      "source": [
        "plt.plot (history.history ['accuracy'], label = 'Train accuracy')\n",
        "plt.plot (history.history ['val_accuracy'], label = 'Validation accuracy')\n",
        "plt.legend()\n",
        "plt.savefig ('Image2.jpg')\n",
        "plt.show()"
      ],
      "metadata": {
        "colab": {
          "base_uri": "https://localhost:8080/",
          "height": 430
        },
        "id": "m0OMfOkOyKun",
        "outputId": "a19a438c-5e3d-4f5f-a745-9b427ba2aa1c"
      },
      "execution_count": null,
      "outputs": [
        {
          "output_type": "display_data",
          "data": {
            "text/plain": [
              "<Figure size 640x480 with 1 Axes>"
            ],
            "image/png": "[encoded data removed]"
          },
          "metadata": {}
        }
      ]
    }
  ]
}