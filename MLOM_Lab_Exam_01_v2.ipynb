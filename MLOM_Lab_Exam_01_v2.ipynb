{
  "cells": [
    {
      "cell_type": "markdown",
      "metadata": {
        "id": "view-in-github",
        "colab_type": "text"
      },
      "source": [
        "<a href=\"https://colab.research.google.com/github/Wishmi-Sasika/MLOM-Labs/blob/main/MLOM_Lab_Exam_01_v2.ipynb\" target=\"_parent\"><img src=\"https://colab.research.google.com/assets/colab-badge.svg\" alt=\"Open In Colab\"/></a>"
      ]
    },
    {
      "cell_type": "code",
      "execution_count": 1,
      "metadata": {
        "id": "71iFoZQIQYUJ"
      },
      "outputs": [],
      "source": [
        "# Importing the libraries\n",
        "import numpy as np\n",
        "import pandas as pd\n",
        "import tensorflow as tf\n",
        "from tensorflow import keras\n",
        "from sklearn.model_selection import train_test_split\n",
        "import matplotlib.pyplot as plt\n"
      ]
    },
    {
      "cell_type": "code",
      "execution_count": 2,
      "metadata": {
        "id": "oxqXsQ7yTYM_"
      },
      "outputs": [],
      "source": [
        "# Importing the data\n",
        "data = pd.read_csv('https://raw.githubusercontent.com/lakminia/Market_data_IT3071/main/Market_data_set.csv')"
      ]
    },
    {
      "cell_type": "code",
      "execution_count": 3,
      "metadata": {
        "colab": {
          "base_uri": "https://localhost:8080/",
          "height": 206
        },
        "id": "fzWOSi6hTizv",
        "outputId": "462f08fa-9695-472a-edae-fcdb45eed34d"
      },
      "outputs": [
        {
          "output_type": "execute_result",
          "data": {
            "text/plain": [
              "   QUANTITYORDERED  PRICEEACH  ORDERLINENUMBER    SALES   STATUS  QTR_ID  \\\n",
              "0               30      95.70                2  2871.00  Shipped       1   \n",
              "1               34      81.35                5  2765.90  Shipped       2   \n",
              "2               41      94.74                2  3884.34  Shipped       3   \n",
              "3               45      83.26                6  3746.70  Shipped       3   \n",
              "4               49     100.00               14  5205.27  Shipped       4   \n",
              "\n",
              "   MONTH_ID  YEAR_ID  PRODUCTLINE  MSRP  Product_SK PRODUCTCODE  Customer_SK  \\\n",
              "0         2     2003  Motorcycles    95           1    S10_1678            1   \n",
              "1         5     2003  Motorcycles    95           2    S10_1678            2   \n",
              "2         7     2003  Motorcycles    95           3    S10_1678            3   \n",
              "3         8     2003  Motorcycles    95           4    S10_1678            4   \n",
              "4        10     2003  Motorcycles    95           5    S10_1678            5   \n",
              "\n",
              "  COUNTRY DEALSIZE  \n",
              "0     USA    Small  \n",
              "1  France    Small  \n",
              "2  France   Medium  \n",
              "3     USA   Medium  \n",
              "4     USA   Medium  "
            ],
            "text/html": [
              "\n",
              "  <div id=\"df-1cf6e91a-08fb-409c-8a33-ab98949da6bb\" class=\"colab-df-container\">\n",
              "    <div>\n",
              "<style scoped>\n",
              "    .dataframe tbody tr th:only-of-type {\n",
              "        vertical-align: middle;\n",
              "    }\n",
              "\n",
              "    .dataframe tbody tr th {\n",
              "        vertical-align: top;\n",
              "    }\n",
              "\n",
              "    .dataframe thead th {\n",
              "        text-align: right;\n",
              "    }\n",
              "</style>\n",
              "<table border=\"1\" class=\"dataframe\">\n",
              "  <thead>\n",
              "    <tr style=\"text-align: right;\">\n",
              "      <th></th>\n",
              "      <th>QUANTITYORDERED</th>\n",
              "      <th>PRICEEACH</th>\n",
              "      <th>ORDERLINENUMBER</th>\n",
              "      <th>SALES</th>\n",
              "      <th>STATUS</th>\n",
              "      <th>QTR_ID</th>\n",
              "      <th>MONTH_ID</th>\n",
              "      <th>YEAR_ID</th>\n",
              "      <th>PRODUCTLINE</th>\n",
              "      <th>MSRP</th>\n",
              "      <th>Product_SK</th>\n",
              "      <th>PRODUCTCODE</th>\n",
              "      <th>Customer_SK</th>\n",
              "      <th>COUNTRY</th>\n",
              "      <th>DEALSIZE</th>\n",
              "    </tr>\n",
              "  </thead>\n",
              "  <tbody>\n",
              "    <tr>\n",
              "      <th>0</th>\n",
              "      <td>30</td>\n",
              "      <td>95.70</td>\n",
              "      <td>2</td>\n",
              "      <td>2871.00</td>\n",
              "      <td>Shipped</td>\n",
              "      <td>1</td>\n",
              "      <td>2</td>\n",
              "      <td>2003</td>\n",
              "      <td>Motorcycles</td>\n",
              "      <td>95</td>\n",
              "      <td>1</td>\n",
              "      <td>S10_1678</td>\n",
              "      <td>1</td>\n",
              "      <td>USA</td>\n",
              "      <td>Small</td>\n",
              "    </tr>\n",
              "    <tr>\n",
              "      <th>1</th>\n",
              "      <td>34</td>\n",
              "      <td>81.35</td>\n",
              "      <td>5</td>\n",
              "      <td>2765.90</td>\n",
              "      <td>Shipped</td>\n",
              "      <td>2</td>\n",
              "      <td>5</td>\n",
              "      <td>2003</td>\n",
              "      <td>Motorcycles</td>\n",
              "      <td>95</td>\n",
              "      <td>2</td>\n",
              "      <td>S10_1678</td>\n",
              "      <td>2</td>\n",
              "      <td>France</td>\n",
              "      <td>Small</td>\n",
              "    </tr>\n",
              "    <tr>\n",
              "      <th>2</th>\n",
              "      <td>41</td>\n",
              "      <td>94.74</td>\n",
              "      <td>2</td>\n",
              "      <td>3884.34</td>\n",
              "      <td>Shipped</td>\n",
              "      <td>3</td>\n",
              "      <td>7</td>\n",
              "      <td>2003</td>\n",
              "      <td>Motorcycles</td>\n",
              "      <td>95</td>\n",
              "      <td>3</td>\n",
              "      <td>S10_1678</td>\n",
              "      <td>3</td>\n",
              "      <td>France</td>\n",
              "      <td>Medium</td>\n",
              "    </tr>\n",
              "    <tr>\n",
              "      <th>3</th>\n",
              "      <td>45</td>\n",
              "      <td>83.26</td>\n",
              "      <td>6</td>\n",
              "      <td>3746.70</td>\n",
              "      <td>Shipped</td>\n",
              "      <td>3</td>\n",
              "      <td>8</td>\n",
              "      <td>2003</td>\n",
              "      <td>Motorcycles</td>\n",
              "      <td>95</td>\n",
              "      <td>4</td>\n",
              "      <td>S10_1678</td>\n",
              "      <td>4</td>\n",
              "      <td>USA</td>\n",
              "      <td>Medium</td>\n",
              "    </tr>\n",
              "    <tr>\n",
              "      <th>4</th>\n",
              "      <td>49</td>\n",
              "      <td>100.00</td>\n",
              "      <td>14</td>\n",
              "      <td>5205.27</td>\n",
              "      <td>Shipped</td>\n",
              "      <td>4</td>\n",
              "      <td>10</td>\n",
              "      <td>2003</td>\n",
              "      <td>Motorcycles</td>\n",
              "      <td>95</td>\n",
              "      <td>5</td>\n",
              "      <td>S10_1678</td>\n",
              "      <td>5</td>\n",
              "      <td>USA</td>\n",
              "      <td>Medium</td>\n",
              "    </tr>\n",
              "  </tbody>\n",
              "</table>\n",
              "</div>\n",
              "    <div class=\"colab-df-buttons\">\n",
              "\n",
              "  <div class=\"colab-df-container\">\n",
              "    <button class=\"colab-df-convert\" onclick=\"convertToInteractive('df-1cf6e91a-08fb-409c-8a33-ab98949da6bb')\"\n",
              "            title=\"Convert this dataframe to an interactive table.\"\n",
              "            style=\"display:none;\">\n",
              "\n",
              "  <svg xmlns=\"http://www.w3.org/2000/svg\" height=\"24px\" viewBox=\"0 -960 960 960\">\n",
              "    <path d=\"M120-120v-720h720v720H120Zm60-500h600v-160H180v160Zm220 220h160v-160H400v160Zm0 220h160v-160H400v160ZM180-400h160v-160H180v160Zm440 0h160v-160H620v160ZM180-180h160v-160H180v160Zm440 0h160v-160H620v160Z\"/>\n",
              "  </svg>\n",
              "    </button>\n",
              "\n",
              "  <style>\n",
              "    .colab-df-container {\n",
              "      display:flex;\n",
              "      gap: 12px;\n",
              "    }\n",
              "\n",
              "    .colab-df-convert {\n",
              "      background-color: #E8F0FE;\n",
              "      border: none;\n",
              "      border-radius: 50%;\n",
              "      cursor: pointer;\n",
              "      display: none;\n",
              "      fill: #1967D2;\n",
              "      height: 32px;\n",
              "      padding: 0 0 0 0;\n",
              "      width: 32px;\n",
              "    }\n",
              "\n",
              "    .colab-df-convert:hover {\n",
              "      background-color: #E2EBFA;\n",
              "      box-shadow: 0px 1px 2px rgba(60, 64, 67, 0.3), 0px 1px 3px 1px rgba(60, 64, 67, 0.15);\n",
              "      fill: #174EA6;\n",
              "    }\n",
              "\n",
              "    .colab-df-buttons div {\n",
              "      margin-bottom: 4px;\n",
              "    }\n",
              "\n",
              "    [theme=dark] .colab-df-convert {\n",
              "      background-color: #3B4455;\n",
              "      fill: #D2E3FC;\n",
              "    }\n",
              "\n",
              "    [theme=dark] .colab-df-convert:hover {\n",
              "      background-color: #434B5C;\n",
              "      box-shadow: 0px 1px 3px 1px rgba(0, 0, 0, 0.15);\n",
              "      filter: drop-shadow(0px 1px 2px rgba(0, 0, 0, 0.3));\n",
              "      fill: #FFFFFF;\n",
              "    }\n",
              "  </style>\n",
              "\n",
              "    <script>\n",
              "      const buttonEl =\n",
              "        document.querySelector('#df-1cf6e91a-08fb-409c-8a33-ab98949da6bb button.colab-df-convert');\n",
              "      buttonEl.style.display =\n",
              "        google.colab.kernel.accessAllowed ? 'block' : 'none';\n",
              "\n",
              "      async function convertToInteractive(key) {\n",
              "        const element = document.querySelector('#df-1cf6e91a-08fb-409c-8a33-ab98949da6bb');\n",
              "        const dataTable =\n",
              "          await google.colab.kernel.invokeFunction('convertToInteractive',\n",
              "                                                    [key], {});\n",
              "        if (!dataTable) return;\n",
              "\n",
              "        const docLinkHtml = 'Like what you see? Visit the ' +\n",
              "          '<a target=\"_blank\" href=https://colab.research.google.com/notebooks/data_table.ipynb>data table notebook</a>'\n",
              "          + ' to learn more about interactive tables.';\n",
              "        element.innerHTML = '';\n",
              "        dataTable['output_type'] = 'display_data';\n",
              "        await google.colab.output.renderOutput(dataTable, element);\n",
              "        const docLink = document.createElement('div');\n",
              "        docLink.innerHTML = docLinkHtml;\n",
              "        element.appendChild(docLink);\n",
              "      }\n",
              "    </script>\n",
              "  </div>\n",
              "\n",
              "\n",
              "<div id=\"df-3ee126cd-64d5-4002-acc4-ce5ba804a9fc\">\n",
              "  <button class=\"colab-df-quickchart\" onclick=\"quickchart('df-3ee126cd-64d5-4002-acc4-ce5ba804a9fc')\"\n",
              "            title=\"Suggest charts.\"\n",
              "            style=\"display:none;\">\n",
              "\n",
              "<svg xmlns=\"http://www.w3.org/2000/svg\" height=\"24px\"viewBox=\"0 0 24 24\"\n",
              "     width=\"24px\">\n",
              "    <g>\n",
              "        <path d=\"M19 3H5c-1.1 0-2 .9-2 2v14c0 1.1.9 2 2 2h14c1.1 0 2-.9 2-2V5c0-1.1-.9-2-2-2zM9 17H7v-7h2v7zm4 0h-2V7h2v10zm4 0h-2v-4h2v4z\"/>\n",
              "    </g>\n",
              "</svg>\n",
              "  </button>\n",
              "\n",
              "<style>\n",
              "  .colab-df-quickchart {\n",
              "      --bg-color: #E8F0FE;\n",
              "      --fill-color: #1967D2;\n",
              "      --hover-bg-color: #E2EBFA;\n",
              "      --hover-fill-color: #174EA6;\n",
              "      --disabled-fill-color: #AAA;\n",
              "      --disabled-bg-color: #DDD;\n",
              "  }\n",
              "\n",
              "  [theme=dark] .colab-df-quickchart {\n",
              "      --bg-color: #3B4455;\n",
              "      --fill-color: #D2E3FC;\n",
              "      --hover-bg-color: #434B5C;\n",
              "      --hover-fill-color: #FFFFFF;\n",
              "      --disabled-bg-color: #3B4455;\n",
              "      --disabled-fill-color: #666;\n",
              "  }\n",
              "\n",
              "  .colab-df-quickchart {\n",
              "    background-color: var(--bg-color);\n",
              "    border: none;\n",
              "    border-radius: 50%;\n",
              "    cursor: pointer;\n",
              "    display: none;\n",
              "    fill: var(--fill-color);\n",
              "    height: 32px;\n",
              "    padding: 0;\n",
              "    width: 32px;\n",
              "  }\n",
              "\n",
              "  .colab-df-quickchart:hover {\n",
              "    background-color: var(--hover-bg-color);\n",
              "    box-shadow: 0 1px 2px rgba(60, 64, 67, 0.3), 0 1px 3px 1px rgba(60, 64, 67, 0.15);\n",
              "    fill: var(--button-hover-fill-color);\n",
              "  }\n",
              "\n",
              "  .colab-df-quickchart-complete:disabled,\n",
              "  .colab-df-quickchart-complete:disabled:hover {\n",
              "    background-color: var(--disabled-bg-color);\n",
              "    fill: var(--disabled-fill-color);\n",
              "    box-shadow: none;\n",
              "  }\n",
              "\n",
              "  .colab-df-spinner {\n",
              "    border: 2px solid var(--fill-color);\n",
              "    border-color: transparent;\n",
              "    border-bottom-color: var(--fill-color);\n",
              "    animation:\n",
              "      spin 1s steps(1) infinite;\n",
              "  }\n",
              "\n",
              "  @keyframes spin {\n",
              "    0% {\n",
              "      border-color: transparent;\n",
              "      border-bottom-color: var(--fill-color);\n",
              "      border-left-color: var(--fill-color);\n",
              "    }\n",
              "    20% {\n",
              "      border-color: transparent;\n",
              "      border-left-color: var(--fill-color);\n",
              "      border-top-color: var(--fill-color);\n",
              "    }\n",
              "    30% {\n",
              "      border-color: transparent;\n",
              "      border-left-color: var(--fill-color);\n",
              "      border-top-color: var(--fill-color);\n",
              "      border-right-color: var(--fill-color);\n",
              "    }\n",
              "    40% {\n",
              "      border-color: transparent;\n",
              "      border-right-color: var(--fill-color);\n",
              "      border-top-color: var(--fill-color);\n",
              "    }\n",
              "    60% {\n",
              "      border-color: transparent;\n",
              "      border-right-color: var(--fill-color);\n",
              "    }\n",
              "    80% {\n",
              "      border-color: transparent;\n",
              "      border-right-color: var(--fill-color);\n",
              "      border-bottom-color: var(--fill-color);\n",
              "    }\n",
              "    90% {\n",
              "      border-color: transparent;\n",
              "      border-bottom-color: var(--fill-color);\n",
              "    }\n",
              "  }\n",
              "</style>\n",
              "\n",
              "  <script>\n",
              "    async function quickchart(key) {\n",
              "      const quickchartButtonEl =\n",
              "        document.querySelector('#' + key + ' button');\n",
              "      quickchartButtonEl.disabled = true;  // To prevent multiple clicks.\n",
              "      quickchartButtonEl.classList.add('colab-df-spinner');\n",
              "      try {\n",
              "        const charts = await google.colab.kernel.invokeFunction(\n",
              "            'suggestCharts', [key], {});\n",
              "      } catch (error) {\n",
              "        console.error('Error during call to suggestCharts:', error);\n",
              "      }\n",
              "      quickchartButtonEl.classList.remove('colab-df-spinner');\n",
              "      quickchartButtonEl.classList.add('colab-df-quickchart-complete');\n",
              "    }\n",
              "    (() => {\n",
              "      let quickchartButtonEl =\n",
              "        document.querySelector('#df-3ee126cd-64d5-4002-acc4-ce5ba804a9fc button');\n",
              "      quickchartButtonEl.style.display =\n",
              "        google.colab.kernel.accessAllowed ? 'block' : 'none';\n",
              "    })();\n",
              "  </script>\n",
              "</div>\n",
              "    </div>\n",
              "  </div>\n"
            ]
          },
          "metadata": {},
          "execution_count": 3
        }
      ],
      "source": [
        "data.head()"
      ]
    },
    {
      "cell_type": "code",
      "execution_count": 4,
      "metadata": {
        "colab": {
          "base_uri": "https://localhost:8080/"
        },
        "id": "YPYGtJttTtVe",
        "outputId": "07eaedea-b011-4186-9d68-ffd1fbc8a3ac"
      },
      "outputs": [
        {
          "output_type": "execute_result",
          "data": {
            "text/plain": [
              "(2823, 15)"
            ]
          },
          "metadata": {},
          "execution_count": 4
        }
      ],
      "source": [
        "data.shape"
      ]
    },
    {
      "cell_type": "code",
      "execution_count": 5,
      "metadata": {
        "id": "1Eo5q0A0a3ra"
      },
      "outputs": [],
      "source": [
        "data['DEALSIZE'].replace( {'Small': 0,'Medium': 1, 'Large': 2}, inplace=True)"
      ]
    },
    {
      "cell_type": "code",
      "execution_count": 6,
      "metadata": {
        "colab": {
          "base_uri": "https://localhost:8080/",
          "height": 206
        },
        "id": "1fTS9NFNa_WJ",
        "outputId": "357de129-9379-4b95-935c-479d1dec7b75"
      },
      "outputs": [
        {
          "output_type": "execute_result",
          "data": {
            "text/plain": [
              "   QUANTITYORDERED  PRICEEACH  ORDERLINENUMBER    SALES   STATUS  QTR_ID  \\\n",
              "0               30      95.70                2  2871.00  Shipped       1   \n",
              "1               34      81.35                5  2765.90  Shipped       2   \n",
              "2               41      94.74                2  3884.34  Shipped       3   \n",
              "3               45      83.26                6  3746.70  Shipped       3   \n",
              "4               49     100.00               14  5205.27  Shipped       4   \n",
              "\n",
              "   MONTH_ID  YEAR_ID  PRODUCTLINE  MSRP  Product_SK PRODUCTCODE  Customer_SK  \\\n",
              "0         2     2003  Motorcycles    95           1    S10_1678            1   \n",
              "1         5     2003  Motorcycles    95           2    S10_1678            2   \n",
              "2         7     2003  Motorcycles    95           3    S10_1678            3   \n",
              "3         8     2003  Motorcycles    95           4    S10_1678            4   \n",
              "4        10     2003  Motorcycles    95           5    S10_1678            5   \n",
              "\n",
              "  COUNTRY  DEALSIZE  \n",
              "0     USA         0  \n",
              "1  France         0  \n",
              "2  France         1  \n",
              "3     USA         1  \n",
              "4     USA         1  "
            ],
            "text/html": [
              "\n",
              "  <div id=\"df-427aeed6-a3f5-4254-8d0e-bd184da536fc\" class=\"colab-df-container\">\n",
              "    <div>\n",
              "<style scoped>\n",
              "    .dataframe tbody tr th:only-of-type {\n",
              "        vertical-align: middle;\n",
              "    }\n",
              "\n",
              "    .dataframe tbody tr th {\n",
              "        vertical-align: top;\n",
              "    }\n",
              "\n",
              "    .dataframe thead th {\n",
              "        text-align: right;\n",
              "    }\n",
              "</style>\n",
              "<table border=\"1\" class=\"dataframe\">\n",
              "  <thead>\n",
              "    <tr style=\"text-align: right;\">\n",
              "      <th></th>\n",
              "      <th>QUANTITYORDERED</th>\n",
              "      <th>PRICEEACH</th>\n",
              "      <th>ORDERLINENUMBER</th>\n",
              "      <th>SALES</th>\n",
              "      <th>STATUS</th>\n",
              "      <th>QTR_ID</th>\n",
              "      <th>MONTH_ID</th>\n",
              "      <th>YEAR_ID</th>\n",
              "      <th>PRODUCTLINE</th>\n",
              "      <th>MSRP</th>\n",
              "      <th>Product_SK</th>\n",
              "      <th>PRODUCTCODE</th>\n",
              "      <th>Customer_SK</th>\n",
              "      <th>COUNTRY</th>\n",
              "      <th>DEALSIZE</th>\n",
              "    </tr>\n",
              "  </thead>\n",
              "  <tbody>\n",
              "    <tr>\n",
              "      <th>0</th>\n",
              "      <td>30</td>\n",
              "      <td>95.70</td>\n",
              "      <td>2</td>\n",
              "      <td>2871.00</td>\n",
              "      <td>Shipped</td>\n",
              "      <td>1</td>\n",
              "      <td>2</td>\n",
              "      <td>2003</td>\n",
              "      <td>Motorcycles</td>\n",
              "      <td>95</td>\n",
              "      <td>1</td>\n",
              "      <td>S10_1678</td>\n",
              "      <td>1</td>\n",
              "      <td>USA</td>\n",
              "      <td>0</td>\n",
              "    </tr>\n",
              "    <tr>\n",
              "      <th>1</th>\n",
              "      <td>34</td>\n",
              "      <td>81.35</td>\n",
              "      <td>5</td>\n",
              "      <td>2765.90</td>\n",
              "      <td>Shipped</td>\n",
              "      <td>2</td>\n",
              "      <td>5</td>\n",
              "      <td>2003</td>\n",
              "      <td>Motorcycles</td>\n",
              "      <td>95</td>\n",
              "      <td>2</td>\n",
              "      <td>S10_1678</td>\n",
              "      <td>2</td>\n",
              "      <td>France</td>\n",
              "      <td>0</td>\n",
              "    </tr>\n",
              "    <tr>\n",
              "      <th>2</th>\n",
              "      <td>41</td>\n",
              "      <td>94.74</td>\n",
              "      <td>2</td>\n",
              "      <td>3884.34</td>\n",
              "      <td>Shipped</td>\n",
              "      <td>3</td>\n",
              "      <td>7</td>\n",
              "      <td>2003</td>\n",
              "      <td>Motorcycles</td>\n",
              "      <td>95</td>\n",
              "      <td>3</td>\n",
              "      <td>S10_1678</td>\n",
              "      <td>3</td>\n",
              "      <td>France</td>\n",
              "      <td>1</td>\n",
              "    </tr>\n",
              "    <tr>\n",
              "      <th>3</th>\n",
              "      <td>45</td>\n",
              "      <td>83.26</td>\n",
              "      <td>6</td>\n",
              "      <td>3746.70</td>\n",
              "      <td>Shipped</td>\n",
              "      <td>3</td>\n",
              "      <td>8</td>\n",
              "      <td>2003</td>\n",
              "      <td>Motorcycles</td>\n",
              "      <td>95</td>\n",
              "      <td>4</td>\n",
              "      <td>S10_1678</td>\n",
              "      <td>4</td>\n",
              "      <td>USA</td>\n",
              "      <td>1</td>\n",
              "    </tr>\n",
              "    <tr>\n",
              "      <th>4</th>\n",
              "      <td>49</td>\n",
              "      <td>100.00</td>\n",
              "      <td>14</td>\n",
              "      <td>5205.27</td>\n",
              "      <td>Shipped</td>\n",
              "      <td>4</td>\n",
              "      <td>10</td>\n",
              "      <td>2003</td>\n",
              "      <td>Motorcycles</td>\n",
              "      <td>95</td>\n",
              "      <td>5</td>\n",
              "      <td>S10_1678</td>\n",
              "      <td>5</td>\n",
              "      <td>USA</td>\n",
              "      <td>1</td>\n",
              "    </tr>\n",
              "  </tbody>\n",
              "</table>\n",
              "</div>\n",
              "    <div class=\"colab-df-buttons\">\n",
              "\n",
              "  <div class=\"colab-df-container\">\n",
              "    <button class=\"colab-df-convert\" onclick=\"convertToInteractive('df-427aeed6-a3f5-4254-8d0e-bd184da536fc')\"\n",
              "            title=\"Convert this dataframe to an interactive table.\"\n",
              "            style=\"display:none;\">\n",
              "\n",
              "  <svg xmlns=\"http://www.w3.org/2000/svg\" height=\"24px\" viewBox=\"0 -960 960 960\">\n",
              "    <path d=\"M120-120v-720h720v720H120Zm60-500h600v-160H180v160Zm220 220h160v-160H400v160Zm0 220h160v-160H400v160ZM180-400h160v-160H180v160Zm440 0h160v-160H620v160ZM180-180h160v-160H180v160Zm440 0h160v-160H620v160Z\"/>\n",
              "  </svg>\n",
              "    </button>\n",
              "\n",
              "  <style>\n",
              "    .colab-df-container {\n",
              "      display:flex;\n",
              "      gap: 12px;\n",
              "    }\n",
              "\n",
              "    .colab-df-convert {\n",
              "      background-color: #E8F0FE;\n",
              "      border: none;\n",
              "      border-radius: 50%;\n",
              "      cursor: pointer;\n",
              "      display: none;\n",
              "      fill: #1967D2;\n",
              "      height: 32px;\n",
              "      padding: 0 0 0 0;\n",
              "      width: 32px;\n",
              "    }\n",
              "\n",
              "    .colab-df-convert:hover {\n",
              "      background-color: #E2EBFA;\n",
              "      box-shadow: 0px 1px 2px rgba(60, 64, 67, 0.3), 0px 1px 3px 1px rgba(60, 64, 67, 0.15);\n",
              "      fill: #174EA6;\n",
              "    }\n",
              "\n",
              "    .colab-df-buttons div {\n",
              "      margin-bottom: 4px;\n",
              "    }\n",
              "\n",
              "    [theme=dark] .colab-df-convert {\n",
              "      background-color: #3B4455;\n",
              "      fill: #D2E3FC;\n",
              "    }\n",
              "\n",
              "    [theme=dark] .colab-df-convert:hover {\n",
              "      background-color: #434B5C;\n",
              "      box-shadow: 0px 1px 3px 1px rgba(0, 0, 0, 0.15);\n",
              "      filter: drop-shadow(0px 1px 2px rgba(0, 0, 0, 0.3));\n",
              "      fill: #FFFFFF;\n",
              "    }\n",
              "  </style>\n",
              "\n",
              "    <script>\n",
              "      const buttonEl =\n",
              "        document.querySelector('#df-427aeed6-a3f5-4254-8d0e-bd184da536fc button.colab-df-convert');\n",
              "      buttonEl.style.display =\n",
              "        google.colab.kernel.accessAllowed ? 'block' : 'none';\n",
              "\n",
              "      async function convertToInteractive(key) {\n",
              "        const element = document.querySelector('#df-427aeed6-a3f5-4254-8d0e-bd184da536fc');\n",
              "        const dataTable =\n",
              "          await google.colab.kernel.invokeFunction('convertToInteractive',\n",
              "                                                    [key], {});\n",
              "        if (!dataTable) return;\n",
              "\n",
              "        const docLinkHtml = 'Like what you see? Visit the ' +\n",
              "          '<a target=\"_blank\" href=https://colab.research.google.com/notebooks/data_table.ipynb>data table notebook</a>'\n",
              "          + ' to learn more about interactive tables.';\n",
              "        element.innerHTML = '';\n",
              "        dataTable['output_type'] = 'display_data';\n",
              "        await google.colab.output.renderOutput(dataTable, element);\n",
              "        const docLink = document.createElement('div');\n",
              "        docLink.innerHTML = docLinkHtml;\n",
              "        element.appendChild(docLink);\n",
              "      }\n",
              "    </script>\n",
              "  </div>\n",
              "\n",
              "\n",
              "<div id=\"df-071e6caa-f1ca-4fe6-855d-d12d016ae346\">\n",
              "  <button class=\"colab-df-quickchart\" onclick=\"quickchart('df-071e6caa-f1ca-4fe6-855d-d12d016ae346')\"\n",
              "            title=\"Suggest charts.\"\n",
              "            style=\"display:none;\">\n",
              "\n",
              "<svg xmlns=\"http://www.w3.org/2000/svg\" height=\"24px\"viewBox=\"0 0 24 24\"\n",
              "     width=\"24px\">\n",
              "    <g>\n",
              "        <path d=\"M19 3H5c-1.1 0-2 .9-2 2v14c0 1.1.9 2 2 2h14c1.1 0 2-.9 2-2V5c0-1.1-.9-2-2-2zM9 17H7v-7h2v7zm4 0h-2V7h2v10zm4 0h-2v-4h2v4z\"/>\n",
              "    </g>\n",
              "</svg>\n",
              "  </button>\n",
              "\n",
              "<style>\n",
              "  .colab-df-quickchart {\n",
              "      --bg-color: #E8F0FE;\n",
              "      --fill-color: #1967D2;\n",
              "      --hover-bg-color: #E2EBFA;\n",
              "      --hover-fill-color: #174EA6;\n",
              "      --disabled-fill-color: #AAA;\n",
              "      --disabled-bg-color: #DDD;\n",
              "  }\n",
              "\n",
              "  [theme=dark] .colab-df-quickchart {\n",
              "      --bg-color: #3B4455;\n",
              "      --fill-color: #D2E3FC;\n",
              "      --hover-bg-color: #434B5C;\n",
              "      --hover-fill-color: #FFFFFF;\n",
              "      --disabled-bg-color: #3B4455;\n",
              "      --disabled-fill-color: #666;\n",
              "  }\n",
              "\n",
              "  .colab-df-quickchart {\n",
              "    background-color: var(--bg-color);\n",
              "    border: none;\n",
              "    border-radius: 50%;\n",
              "    cursor: pointer;\n",
              "    display: none;\n",
              "    fill: var(--fill-color);\n",
              "    height: 32px;\n",
              "    padding: 0;\n",
              "    width: 32px;\n",
              "  }\n",
              "\n",
              "  .colab-df-quickchart:hover {\n",
              "    background-color: var(--hover-bg-color);\n",
              "    box-shadow: 0 1px 2px rgba(60, 64, 67, 0.3), 0 1px 3px 1px rgba(60, 64, 67, 0.15);\n",
              "    fill: var(--button-hover-fill-color);\n",
              "  }\n",
              "\n",
              "  .colab-df-quickchart-complete:disabled,\n",
              "  .colab-df-quickchart-complete:disabled:hover {\n",
              "    background-color: var(--disabled-bg-color);\n",
              "    fill: var(--disabled-fill-color);\n",
              "    box-shadow: none;\n",
              "  }\n",
              "\n",
              "  .colab-df-spinner {\n",
              "    border: 2px solid var(--fill-color);\n",
              "    border-color: transparent;\n",
              "    border-bottom-color: var(--fill-color);\n",
              "    animation:\n",
              "      spin 1s steps(1) infinite;\n",
              "  }\n",
              "\n",
              "  @keyframes spin {\n",
              "    0% {\n",
              "      border-color: transparent;\n",
              "      border-bottom-color: var(--fill-color);\n",
              "      border-left-color: var(--fill-color);\n",
              "    }\n",
              "    20% {\n",
              "      border-color: transparent;\n",
              "      border-left-color: var(--fill-color);\n",
              "      border-top-color: var(--fill-color);\n",
              "    }\n",
              "    30% {\n",
              "      border-color: transparent;\n",
              "      border-left-color: var(--fill-color);\n",
              "      border-top-color: var(--fill-color);\n",
              "      border-right-color: var(--fill-color);\n",
              "    }\n",
              "    40% {\n",
              "      border-color: transparent;\n",
              "      border-right-color: var(--fill-color);\n",
              "      border-top-color: var(--fill-color);\n",
              "    }\n",
              "    60% {\n",
              "      border-color: transparent;\n",
              "      border-right-color: var(--fill-color);\n",
              "    }\n",
              "    80% {\n",
              "      border-color: transparent;\n",
              "      border-right-color: var(--fill-color);\n",
              "      border-bottom-color: var(--fill-color);\n",
              "    }\n",
              "    90% {\n",
              "      border-color: transparent;\n",
              "      border-bottom-color: var(--fill-color);\n",
              "    }\n",
              "  }\n",
              "</style>\n",
              "\n",
              "  <script>\n",
              "    async function quickchart(key) {\n",
              "      const quickchartButtonEl =\n",
              "        document.querySelector('#' + key + ' button');\n",
              "      quickchartButtonEl.disabled = true;  // To prevent multiple clicks.\n",
              "      quickchartButtonEl.classList.add('colab-df-spinner');\n",
              "      try {\n",
              "        const charts = await google.colab.kernel.invokeFunction(\n",
              "            'suggestCharts', [key], {});\n",
              "      } catch (error) {\n",
              "        console.error('Error during call to suggestCharts:', error);\n",
              "      }\n",
              "      quickchartButtonEl.classList.remove('colab-df-spinner');\n",
              "      quickchartButtonEl.classList.add('colab-df-quickchart-complete');\n",
              "    }\n",
              "    (() => {\n",
              "      let quickchartButtonEl =\n",
              "        document.querySelector('#df-071e6caa-f1ca-4fe6-855d-d12d016ae346 button');\n",
              "      quickchartButtonEl.style.display =\n",
              "        google.colab.kernel.accessAllowed ? 'block' : 'none';\n",
              "    })();\n",
              "  </script>\n",
              "</div>\n",
              "    </div>\n",
              "  </div>\n"
            ]
          },
          "metadata": {},
          "execution_count": 6
        }
      ],
      "source": [
        "data.head()"
      ]
    },
    {
      "cell_type": "code",
      "execution_count": 7,
      "metadata": {
        "colab": {
          "base_uri": "https://localhost:8080/"
        },
        "id": "UAkEc1hIT3de",
        "outputId": "5b172603-c536-43c2-957b-c3f583914921"
      },
      "outputs": [
        {
          "output_type": "stream",
          "name": "stdout",
          "text": [
            "QUANTITYORDERED\n",
            "[0 1 2]\n",
            "PRICEEACH\n",
            "[0 1 2]\n",
            "ORDERLINENUMBER\n",
            "[0 1 2]\n",
            "SALES\n",
            "[0 1 2]\n",
            "STATUS\n",
            "[0 1 2]\n",
            "QTR_ID\n",
            "[0 1 2]\n",
            "MONTH_ID\n",
            "[0 1 2]\n",
            "YEAR_ID\n",
            "[0 1 2]\n",
            "PRODUCTLINE\n",
            "[0 1 2]\n",
            "MSRP\n",
            "[0 1 2]\n",
            "Product_SK\n",
            "[0 1 2]\n",
            "PRODUCTCODE\n",
            "[0 1 2]\n",
            "Customer_SK\n",
            "[0 1 2]\n",
            "COUNTRY\n",
            "[0 1 2]\n",
            "DEALSIZE\n",
            "[0 1 2]\n"
          ]
        }
      ],
      "source": [
        "for column_name in data:\n",
        "      print(column_name)\n",
        "      s = data['DEALSIZE'].unique()\n",
        "      print(s)"
      ]
    },
    {
      "cell_type": "code",
      "execution_count": 8,
      "metadata": {
        "colab": {
          "base_uri": "https://localhost:8080/"
        },
        "id": "EN0EvAqcUcbN",
        "outputId": "c3a41243-bb58-4753-b186-4fea2a1c25c3"
      },
      "outputs": [
        {
          "output_type": "execute_result",
          "data": {
            "text/plain": [
              "QUANTITYORDERED    0\n",
              "PRICEEACH          0\n",
              "ORDERLINENUMBER    0\n",
              "SALES              0\n",
              "STATUS             0\n",
              "QTR_ID             0\n",
              "MONTH_ID           0\n",
              "YEAR_ID            0\n",
              "PRODUCTLINE        0\n",
              "MSRP               0\n",
              "Product_SK         0\n",
              "PRODUCTCODE        0\n",
              "Customer_SK        0\n",
              "COUNTRY            0\n",
              "DEALSIZE           0\n",
              "dtype: int64"
            ]
          },
          "metadata": {},
          "execution_count": 8
        }
      ],
      "source": [
        "data.isna().sum()"
      ]
    },
    {
      "cell_type": "code",
      "execution_count": 9,
      "metadata": {
        "id": "3a7EFCe8XVge"
      },
      "outputs": [],
      "source": [
        "# Ndata = pd.get_dummies('STATUS','PRODUCTLINE', 'PRODUCTCODE', 'COUNTRY')\n",
        "ndata = pd.get_dummies(data, columns = ['STATUS','PRODUCTLINE', 'PRODUCTCODE', 'COUNTRY'])"
      ]
    },
    {
      "cell_type": "code",
      "execution_count": 10,
      "metadata": {
        "id": "3PdcNj8KVNPt"
      },
      "outputs": [],
      "source": [
        "x = ndata.drop('DEALSIZE', axis = 1)\n",
        "y = ndata['DEALSIZE']"
      ]
    },
    {
      "cell_type": "code",
      "execution_count": 11,
      "metadata": {
        "colab": {
          "base_uri": "https://localhost:8080/"
        },
        "id": "_3VW4QuhWGA9",
        "outputId": "54e1125e-153e-43c9-cdc7-8af953a6f4ee"
      },
      "outputs": [
        {
          "output_type": "execute_result",
          "data": {
            "text/plain": [
              "(2823, 151)"
            ]
          },
          "metadata": {},
          "execution_count": 11
        }
      ],
      "source": [
        "x.shape"
      ]
    },
    {
      "cell_type": "code",
      "execution_count": 12,
      "metadata": {
        "colab": {
          "base_uri": "https://localhost:8080/"
        },
        "id": "8epxI0d9WH2k",
        "outputId": "8fbb6277-8eaa-4853-920d-e40065bbe8de"
      },
      "outputs": [
        {
          "output_type": "execute_result",
          "data": {
            "text/plain": [
              "0    0\n",
              "1    0\n",
              "2    1\n",
              "3    1\n",
              "4    1\n",
              "Name: DEALSIZE, dtype: int64"
            ]
          },
          "metadata": {},
          "execution_count": 12
        }
      ],
      "source": [
        "y.head()"
      ]
    },
    {
      "cell_type": "code",
      "execution_count": 13,
      "metadata": {
        "id": "lSNP0qrqb-PJ"
      },
      "outputs": [],
      "source": [
        "X_train, X_test, y_train, y_test = train_test_split(x, y, test_size=0.33, random_state=4, shuffle=True)"
      ]
    },
    {
      "cell_type": "code",
      "execution_count": 14,
      "metadata": {
        "id": "yO1fDqWuXJKN"
      },
      "outputs": [],
      "source": [
        "# Defining the model\n",
        "model = tf.keras.Sequential([\n",
        "\n",
        "\n",
        "    tf.keras.layers.Dense(256, activation='relu'),\n",
        "    tf.keras.layers.Dense(128, activation='relu'),\n",
        "    tf.keras.layers.Dense(16, activation = 'relu'),\n",
        "    tf.keras.layers.Dense(3, activation = 'softmax')\n",
        "])\n",
        "\n",
        "optimizer = tf.keras.optimizers.Adam(learning_rate=0.001)\n",
        "\n",
        "# Compiling the model\n",
        "model.compile(optimizer=optimizer,\n",
        "              loss=keras.losses.SparseCategoricalCrossentropy(),\n",
        "              metrics=['accuracy'])"
      ]
    },
    {
      "cell_type": "code",
      "execution_count": 15,
      "metadata": {
        "id": "Lr5P_QjEc8ch",
        "colab": {
          "base_uri": "https://localhost:8080/"
        },
        "outputId": "7e31c637-66fa-4278-b992-aae8b6c34961"
      },
      "outputs": [
        {
          "output_type": "stream",
          "name": "stdout",
          "text": [
            "Epoch 1/30\n",
            "60/60 [==============================] - 10s 18ms/step - loss: 14.3113 - accuracy: 0.8599 - val_loss: 3.8412 - val_accuracy: 0.8637\n",
            "Epoch 2/30\n",
            "60/60 [==============================] - 0s 8ms/step - loss: 0.9426 - accuracy: 0.9603 - val_loss: 0.3272 - val_accuracy: 0.9635\n",
            "Epoch 3/30\n",
            "60/60 [==============================] - 1s 11ms/step - loss: 1.1979 - accuracy: 0.9376 - val_loss: 0.8621 - val_accuracy: 0.9571\n",
            "Epoch 4/30\n",
            "60/60 [==============================] - 0s 8ms/step - loss: 1.3745 - accuracy: 0.9482 - val_loss: 6.1536 - val_accuracy: 0.9474\n",
            "Epoch 5/30\n",
            "60/60 [==============================] - 1s 10ms/step - loss: 2.4736 - accuracy: 0.9408 - val_loss: 0.7083 - val_accuracy: 0.9399\n",
            "Epoch 6/30\n",
            "60/60 [==============================] - 0s 8ms/step - loss: 0.9724 - accuracy: 0.9519 - val_loss: 0.9046 - val_accuracy: 0.9388\n",
            "Epoch 7/30\n",
            "60/60 [==============================] - 0s 8ms/step - loss: 1.0947 - accuracy: 0.9397 - val_loss: 0.5718 - val_accuracy: 0.9549\n",
            "Epoch 8/30\n",
            "60/60 [==============================] - 1s 9ms/step - loss: 2.0419 - accuracy: 0.9371 - val_loss: 0.4899 - val_accuracy: 0.9635\n",
            "Epoch 9/30\n",
            "60/60 [==============================] - 1s 8ms/step - loss: 1.0945 - accuracy: 0.9693 - val_loss: 1.2958 - val_accuracy: 0.9506\n",
            "Epoch 10/30\n",
            "60/60 [==============================] - 0s 8ms/step - loss: 1.1577 - accuracy: 0.9603 - val_loss: 2.6557 - val_accuracy: 0.9281\n",
            "Epoch 11/30\n",
            "60/60 [==============================] - 1s 9ms/step - loss: 0.8093 - accuracy: 0.9646 - val_loss: 0.3922 - val_accuracy: 0.9624\n",
            "Epoch 12/30\n",
            "60/60 [==============================] - 0s 7ms/step - loss: 0.7209 - accuracy: 0.9635 - val_loss: 2.2195 - val_accuracy: 0.9506\n",
            "Epoch 13/30\n",
            "60/60 [==============================] - 1s 9ms/step - loss: 1.1267 - accuracy: 0.9593 - val_loss: 0.6824 - val_accuracy: 0.9710\n",
            "Epoch 14/30\n",
            "60/60 [==============================] - 0s 8ms/step - loss: 1.5433 - accuracy: 0.9545 - val_loss: 1.9480 - val_accuracy: 0.9292\n",
            "Epoch 15/30\n",
            "60/60 [==============================] - 1s 10ms/step - loss: 0.9104 - accuracy: 0.9635 - val_loss: 0.2253 - val_accuracy: 0.9732\n",
            "Epoch 16/30\n",
            "60/60 [==============================] - 0s 8ms/step - loss: 0.4501 - accuracy: 0.9815 - val_loss: 1.7288 - val_accuracy: 0.9506\n",
            "Epoch 17/30\n",
            "60/60 [==============================] - 1s 10ms/step - loss: 0.9353 - accuracy: 0.9577 - val_loss: 2.4565 - val_accuracy: 0.9131\n",
            "Epoch 18/30\n",
            "60/60 [==============================] - 0s 8ms/step - loss: 0.8280 - accuracy: 0.9662 - val_loss: 0.0399 - val_accuracy: 0.9946\n",
            "Epoch 19/30\n",
            "60/60 [==============================] - 1s 9ms/step - loss: 0.2429 - accuracy: 0.9825 - val_loss: 0.0468 - val_accuracy: 0.9882\n",
            "Epoch 20/30\n",
            "60/60 [==============================] - 1s 17ms/step - loss: 1.0864 - accuracy: 0.9714 - val_loss: 3.2939 - val_accuracy: 0.9388\n",
            "Epoch 21/30\n",
            "60/60 [==============================] - 1s 11ms/step - loss: 1.0064 - accuracy: 0.9662 - val_loss: 0.1597 - val_accuracy: 0.9785\n",
            "Epoch 22/30\n",
            "60/60 [==============================] - 1s 15ms/step - loss: 0.7724 - accuracy: 0.9603 - val_loss: 3.2946 - val_accuracy: 0.9067\n",
            "Epoch 23/30\n",
            "60/60 [==============================] - 1s 12ms/step - loss: 0.7243 - accuracy: 0.9593 - val_loss: 0.7544 - val_accuracy: 0.9624\n",
            "Epoch 24/30\n",
            "60/60 [==============================] - 0s 8ms/step - loss: 0.7651 - accuracy: 0.9762 - val_loss: 0.1246 - val_accuracy: 0.9861\n",
            "Epoch 25/30\n",
            "60/60 [==============================] - 1s 11ms/step - loss: 3.4601 - accuracy: 0.9270 - val_loss: 0.6984 - val_accuracy: 0.9582\n",
            "Epoch 26/30\n",
            "60/60 [==============================] - 1s 10ms/step - loss: 0.3649 - accuracy: 0.9667 - val_loss: 0.4524 - val_accuracy: 0.9571\n",
            "Epoch 27/30\n",
            "60/60 [==============================] - 0s 8ms/step - loss: 0.2756 - accuracy: 0.9767 - val_loss: 0.2299 - val_accuracy: 0.9732\n",
            "Epoch 28/30\n",
            "60/60 [==============================] - 1s 10ms/step - loss: 0.1309 - accuracy: 0.9852 - val_loss: 0.1114 - val_accuracy: 0.9850\n",
            "Epoch 29/30\n",
            "60/60 [==============================] - 0s 6ms/step - loss: 0.0655 - accuracy: 0.9921 - val_loss: 0.1279 - val_accuracy: 0.9807\n",
            "Epoch 30/30\n",
            "60/60 [==============================] - 0s 5ms/step - loss: 0.0715 - accuracy: 0.9894 - val_loss: 0.0506 - val_accuracy: 0.9850\n"
          ]
        }
      ],
      "source": [
        "# fitting the model\n",
        "history = model.fit(X_train, y_train, epochs=30, batch_size=32, validation_data = (X_test, y_test))"
      ]
    },
    {
      "cell_type": "code",
      "execution_count": 16,
      "metadata": {
        "id": "YM1l_urodUM4",
        "colab": {
          "base_uri": "https://localhost:8080/"
        },
        "outputId": "882198c1-48c5-4c9b-90a0-ef4ace3917c3"
      },
      "outputs": [
        {
          "output_type": "stream",
          "name": "stdout",
          "text": [
            "30/30 [==============================] - 0s 3ms/step - loss: 0.0506 - accuracy: 0.9850\n"
          ]
        }
      ],
      "source": [
        "results = model.evaluate(X_test, y_test, batch_size=32)"
      ]
    },
    {
      "cell_type": "code",
      "execution_count": 17,
      "metadata": {
        "id": "B0SfNtwFjx9G",
        "colab": {
          "base_uri": "https://localhost:8080/"
        },
        "outputId": "ac3b4413-c171-498c-c127-8e7ed2fa6618"
      },
      "outputs": [
        {
          "output_type": "stream",
          "name": "stdout",
          "text": [
            "29/29 [==============================] - 0s 2ms/step\n"
          ]
        },
        {
          "output_type": "execute_result",
          "data": {
            "text/plain": [
              "array([[0.0000000e+00, 1.0000000e+00, 0.0000000e+00],\n",
              "       [1.0000000e+00, 1.3987563e-36, 0.0000000e+00],\n",
              "       [1.0000000e+00, 2.7835019e-27, 0.0000000e+00],\n",
              "       ...,\n",
              "       [1.0000000e+00, 3.4095305e-36, 0.0000000e+00],\n",
              "       [0.0000000e+00, 1.0000000e+00, 0.0000000e+00],\n",
              "       [1.0000000e+00, 0.0000000e+00, 0.0000000e+00]], dtype=float32)"
            ]
          },
          "metadata": {},
          "execution_count": 17
        }
      ],
      "source": [
        "predictions = model.predict(X_test[10:])\n",
        "predictions"
      ]
    },
    {
      "cell_type": "code",
      "execution_count": 18,
      "metadata": {
        "id": "si_AZX0hfJBQ"
      },
      "outputs": [],
      "source": [
        "loss_train = history.history['loss']\n",
        "loss_val = history.history['val_loss']"
      ]
    },
    {
      "cell_type": "code",
      "execution_count": 19,
      "metadata": {
        "colab": {
          "base_uri": "https://localhost:8080/",
          "height": 507
        },
        "id": "WuZWHm3UgXJH",
        "outputId": "fb49eb85-1bdd-4edc-b583-f46411206527"
      },
      "outputs": [
        {
          "output_type": "stream",
          "name": "stderr",
          "text": [
            "WARNING:matplotlib.legend:No artists with labels found to put in legend.  Note that artists whose label start with an underscore are ignored when legend() is called with no argument.\n"
          ]
        },
        {
          "output_type": "execute_result",
          "data": {
            "text/plain": [
              "<matplotlib.legend.Legend at 0x7c54531cbe20>"
            ]
          },
          "metadata": {},
          "execution_count": 19
        },
        {
          "output_type": "display_data",
          "data": {
            "text/plain": [
              "<Figure size 640x480 with 1 Axes>"
            ],
            "image/png": "[encoded data removed]"
          },
          "metadata": {}
        }
      ],
      "source": [
        "plt.plot(history.history['loss'])\n",
        "plt.plot(history.history['val_loss'])\n",
        "plt.title('model loss')\n",
        "plt.ylabel('loss')\n",
        "plt.xlabel('epoch')\n",
        "plt.legend()\n",
        "\n"
      ]
    },
    {
      "cell_type": "code",
      "execution_count": 20,
      "metadata": {
        "id": "f6tm6P3vglxH",
        "colab": {
          "base_uri": "https://localhost:8080/",
          "height": 489
        },
        "outputId": "1fe5d1ca-f223-4ed3-fcd9-007f19700357"
      },
      "outputs": [
        {
          "output_type": "execute_result",
          "data": {
            "text/plain": [
              "Text(0.5, 0, 'epoch')"
            ]
          },
          "metadata": {},
          "execution_count": 20
        },
        {
          "output_type": "display_data",
          "data": {
            "text/plain": [
              "<Figure size 640x480 with 1 Axes>"
            ],
            "image/png": "[encoded data removed]"
          },
          "metadata": {}
        }
      ],
      "source": [
        "plt.plot(history.history['accuracy'])\n",
        "plt.plot(history.history['val_accuracy'])\n",
        "plt.title('model accuracy')\n",
        "plt.ylabel('accuracy')\n",
        "plt.xlabel('epoch')"
      ]
    },
    {
      "cell_type": "code",
      "execution_count": 20,
      "metadata": {
        "id": "pkNpEj9Zhicu"
      },
      "outputs": [],
      "source": []
    }
  ],
  "metadata": {
    "accelerator": "GPU",
    "colab": {
      "provenance": [],
      "include_colab_link": true
    },
    "kernelspec": {
      "display_name": "Python 3",
      "name": "python3"
    },
    "language_info": {
      "name": "python"
    }
  },
  "nbformat": 4,
  "nbformat_minor": 0
}